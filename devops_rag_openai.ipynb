{
 "cells": [
  {
   "cell_type": "code",
   "execution_count": 7,
   "id": "2eda24c1-1167-4298-a57c-13cd236c34df",
   "metadata": {},
   "outputs": [],
   "source": [
    "import os\n",
    "os.environ[\"OPENAI_API_KEY\"] = \"Your_OpenAI_Key\"   # <-- your real key\n"
   ]
  },
  {
   "cell_type": "code",
   "execution_count": 11,
   "id": "e9b73dea-560c-4fcc-81a8-9e31e0bc31f6",
   "metadata": {},
   "outputs": [
    {
     "name": "stderr",
     "output_type": "stream",
     "text": [
      "Embedding docs with OpenAI: 100%|████████████████████████████████████████████████████| 147/147 [05:10<00:00,  2.11s/it]\n"
     ]
    },
    {
     "name": "stdin",
     "output_type": "stream",
     "text": [
      "Enter Your Desired Outcomes:  secure pipeline, customer satisfaction\n"
     ]
    },
    {
     "name": "stdout",
     "output_type": "stream",
     "text": [
      "### Recommendation for Secure Pipeline and Increased Customer Satisfaction\n",
      "\n",
      "To achieve increased customer satisfaction through secure pipeline practices, the following structured approach is recommended:\n",
      "\n",
      "#### 1. **Outcome: Increased Customer Satisfaction**\n",
      "   - **Connected Capabilities:**\n",
      "     - Adoption of Agile Methodologies\n",
      "     - Continuous Integration and Continuous Deployment (CI/CD)\n",
      "     - Collaboration Across Development and Operations\n",
      "\n",
      "#### 2. **Capability: Adoption of Agile Methodologies**\n",
      "   - **Connected Practices:**\n",
      "     - Implementing CI/CD Pipelines\n",
      "     - Providing DevOps Training to Employees\n",
      "     - Utilizing Agile Practices\n",
      "   - **Tools:**\n",
      "     - **Jenkins**: For automating CI/CD processes [references: 1001, 1003].\n",
      "     - **GitHub**: For version control and collaboration [references: 100, 1002].\n",
      "\n",
      "#### 3. **Capability: Continuous Integration and Continuous Deployment (CI/CD)**\n",
      "   - **Connected Practices:**\n",
      "     - Applying Infrastructure as Code (IaC)\n",
      "     - Continuous Process Improvement Strategies\n",
      "   - **Tools:**\n",
      "     - **Ansible**: For automating deployment and configuration [references: 1001, 1020].\n",
      "     - **GitLab**: For CI/CD integration and version control [references: 1001, 1013].\n",
      "\n",
      "#### 4. **Capability: Collaboration Across Development and Operations**\n",
      "   - **Connected Practices:**\n",
      "     - Agile Methodology\n",
      "     - Continuous Operation\n",
      "   - **Tools:**\n",
      "     - **Selenium**: For automated testing to ensure quality and security [references: 1013, 107].\n",
      "     - **SonarQube**: For code quality assurance and security checks [references: 1003, 1013].\n",
      "\n",
      "### Maturity Model Consideration\n",
      "To further enhance the maturity of your secure pipeline practices, consider implementing a maturity model that focuses on:\n",
      "- **Continuous Improvement**: Regularly assess and refine your processes based on feedback and performance metrics.\n",
      "- **Security Integration**: Ensure that security practices are embedded within the CI/CD pipeline, promoting a DevSecOps culture.\n",
      "\n",
      "By following this structured approach, organizations can effectively secure their pipelines while simultaneously increasing customer satisfaction, leading to improved business outcomes [references: 209, 424, 779].\n"
     ]
    }
   ],
   "source": [
    "import pandas as pd\n",
    "from devops_rag_openai import DevOpsRAG\n",
    "\n",
    "df = pd.read_csv(\"CooccurrenceMapping.csv\", low_memory=False)\n",
    "rag = DevOpsRAG(df, index_dir=\"rag_index\", use_openai=True)\n",
    "rag.build(index_dir=\"rag_index\")  # one-time embeddings build\n",
    "\n"
   ]
  },
  {
   "cell_type": "code",
   "execution_count": 15,
   "id": "e7ac5b72-ddf8-415d-bb6d-fc24e7cc7e56",
   "metadata": {},
   "outputs": [
    {
     "name": "stdin",
     "output_type": "stream",
     "text": [
      "Enter Your Desired Outcomes:  fast release\n"
     ]
    },
    {
     "name": "stdout",
     "output_type": "stream",
     "text": [
      "### Recommendation for Fast Release\n",
      "\n",
      "#### Outcomes\n",
      "1. **Release Reliability** \n",
      "   - **Capability**: Adaptive Resource Management\n",
      "     - **Practice**: Automated Change Management\n",
      "       - **Tool**: GitHub, GitLab, Jenkins, Terraform, AWS, Bitbucket, Datadog [references: 182, 329, 343, 513, 100, 1001, 1003, 1006, 1007, 1008]\n",
      "\n",
      "2. **Faster Release Cycles**\n",
      "   - **Capability**: Continuous Delivery and Deployment Automation\n",
      "     - **Practice**: Automated Rollbacks\n",
      "       - **Tool**: GitHub, GitLab, Jenkins, Terraform, AWS, Bitbucket, Datadog [references: 158, 314, 571, 759, 329, 372, 414]\n",
      "\n",
      "3. **Faster Feedback Cycles**\n",
      "   - **Capability**: Cross Team Collaboration and Communication\n",
      "     - **Practice**: Monitoring and Logging and Feedback\n",
      "       - **Tool**: GitHub, GitLab, Jenkins, Terraform, AWS, Bitbucket, Datadog [references: 151, 456, 748, 858, 529, 530]\n",
      "\n",
      "4. **Reduced Release Time**\n",
      "   - **Capability**: Continuous Improvement of Processes and Workflows\n",
      "     - **Practice**: Automated Risk Evaluation\n",
      "       - **Tool**: GitHub, GitLab, Jenkins, Terraform, AWS, Bitbucket, Datadog [references: 129, 234, 329, 533]\n",
      "\n",
      "5. **Consistent Release Processes**\n",
      "   - **Capability**: Focus on People, Process, and Technology\n",
      "     - **Practice**: Automated Configuration\n",
      "       - **Tool**: GitHub, GitLab, Jenkins, Terraform, AWS, Bitbucket [references: 453, 370]\n",
      "\n",
      "#### Maturity Models\n",
      "- **OWASP SAMM**\n",
      "  - **Capability**: Automated Threat Detection\n",
      "    - **Practice**: Continuous Delivery and Deployment Automation\n",
      "      - **Tool**: GitHub, GitLab, Jenkins, Terraform, AWS, Bitbucket [references: 512, 514, 516]\n",
      "\n",
      "- **CMMI**\n",
      "  - **Capability**: Cloud Infrastructure and Cloud Native\n",
      "    - **Practice**: Agile Practices\n",
      "      - **Tool**: GitHub, GitLab, Jenkins, Terraform, AWS, Bitbucket [references: 199, 250, 504]\n",
      "\n",
      "### Summary\n",
      "To achieve fast release cycles, focus on enhancing release reliability, feedback cycles, and reducing release time through capabilities such as continuous delivery and deployment automation, adaptive resource management, and cross-team collaboration. Utilize tools like GitHub, GitLab, Jenkins, Terraform, AWS, and Bitbucket to implement automated practices that support these capabilities. Consider maturity models like OWASP SAMM and CMMI to guide your development and operational processes.\n"
     ]
    }
   ],
   "source": [
    "print(rag.answer(\n",
    "    input(\"Enter Your Desired Outcomes: \"),\n",
    "    top_k=12, gen_model=\"gpt-4o-mini\", embed_model=\"text-embedding-3-large\"\n",
    "))"
   ]
  },
  {
   "cell_type": "code",
   "execution_count": null,
   "id": "8da2c9fc-1e56-4a73-9dfe-9b8996aade90",
   "metadata": {},
   "outputs": [],
   "source": []
  }
 ],
 "metadata": {
  "kernelspec": {
   "display_name": "Python 3 (ipykernel)",
   "language": "python",
   "name": "python3"
  },
  "language_info": {
   "codemirror_mode": {
    "name": "ipython",
    "version": 3
   },
   "file_extension": ".py",
   "mimetype": "text/x-python",
   "name": "python",
   "nbconvert_exporter": "python",
   "pygments_lexer": "ipython3",
   "version": "3.12.4"
  }
 },
 "nbformat": 4,
 "nbformat_minor": 5
}
